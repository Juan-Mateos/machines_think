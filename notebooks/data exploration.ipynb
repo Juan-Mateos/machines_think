{
 "cells": [
  {
   "cell_type": "code",
   "execution_count": 382,
   "metadata": {
    "collapsed": false
   },
   "outputs": [
    {
     "name": "stderr",
     "output_type": "stream",
     "text": [
      "/Users/juanmateos-garcia/.virtualenvs/machines/lib/python3.5/site-packages/nltk/twitter/__init__.py:20: UserWarning: The twython library has not been installed. Some functionality from the twitter package will not be available.\n",
      "  warnings.warn(\"The twython library has not been installed. \"\n"
     ]
    }
   ],
   "source": [
    "import pickle\n",
    "import os\n",
    "from itertools import islice\n",
    "\n",
    "import numpy as np\n",
    "import pandas as pd\n",
    "\n",
    "import ratelim\n",
    "import json\n",
    "import requests\n",
    "import scholarly\n",
    "\n",
    "from nltk.sentiment.vader import SentimentIntensityAnalyzer\n",
    "\n",
    "#We use scholarly to extract author data from GS. We will focus on the top 5 results and check matches on\n",
    "    #institution\n",
    "\n",
    "@ratelim.patient(10,30)\n",
    "def gimme_scholar(auth_name):\n",
    "    '''\n",
    "    Takes an author name and returns the profiles of the top 5 academics\n",
    "    \n",
    "    '''\n",
    "    returned = scholarly.search_author(auth_name)\n",
    "    \n",
    "    #Tries to append the 5 first results to an out-list\n",
    "    #out = next(returned)\n",
    "    \n",
    "    out=[]\n",
    "    #return(returned)\n",
    "    \n",
    "    it = 0\n",
    "    while it<5:\n",
    "        it +=1\n",
    "        try:\n",
    "            out.append(next(returned))\n",
    "        except:\n",
    "            return(out)\n",
    "    return(out)\n",
    "\n",
    "\n",
    "#We obtain genders using genderise, a web API\n",
    "\n",
    "@ratelim.patient(10,30)\n",
    "def gimme_gender(auth_name):\n",
    "    '''\n",
    "    Takes an author name and returns the gender based on https://genderize.io/\n",
    "    \n",
    "    '''\n",
    "    \n",
    "    first_name = auth_name.split(\" \")[0]\n",
    "    \n",
    "    result = requests.get(\"https://api.genderize.io/?name={x}\".format(x=first_name))\n",
    "    return(json.loads(result.content.decode('utf-8')))"
   ]
  },
  {
   "cell_type": "code",
   "execution_count": 50,
   "metadata": {
    "collapsed": false
   },
   "outputs": [],
   "source": [
    "data_dir = os.path.join(os.path.dirname(os.getcwd()),'data/interim')"
   ]
  },
  {
   "cell_type": "code",
   "execution_count": 51,
   "metadata": {
    "collapsed": false
   },
   "outputs": [],
   "source": [
    "with open(data_dir + '/parsed_pickle.p','rb') as infile:\n",
    "    parsed = pickle.load(infile)"
   ]
  },
  {
   "cell_type": "code",
   "execution_count": 294,
   "metadata": {
    "collapsed": false
   },
   "outputs": [
    {
     "name": "stdout",
     "output_type": "stream",
     "text": [
      "We have 116 academics\n"
     ]
    }
   ],
   "source": [
    "#Use only those entries for which we have the author's name\n",
    "selected_outputs = [x for x in parsed if len(x[0])>0]\n",
    "\n",
    "#Create a df with author metadata\n",
    "author_metadata_df = pd.DataFrame([[x[0][0].strip(),x[1][0],x[2][0]] for x in selected_outputs],\n",
    "                                 columns=['name','url','bio'])\n",
    "\n",
    "#We want to focus on entries with an academic profile and a likely presence in Google scholar\n",
    "names = ['university','college','school','mit','institute','professor']\n",
    "\n",
    "#Academic keyword in bio\n",
    "has_university = [any(n in x[2][0].lower() for n in names) for x in selected_outputs]\n",
    "\n",
    "print(\"We have {x} academics\".format(x=np.sum(has_university)))\n",
    "\n",
    "#Add a variable in the df\n",
    "author_metadata_df['is_academic'] = has_university"
   ]
  },
  {
   "cell_type": "code",
   "execution_count": 298,
   "metadata": {
    "collapsed": false
   },
   "outputs": [
    {
     "name": "stdout",
     "output_type": "stream",
     "text": [
      "running with author Giulio  Boccaletti\n",
      "running with author Stephen M. Kosslyn\n",
      "running with author Ziyad  Marar\n",
      "running with author Steve  Fuller\n",
      "running with author Martin  Rees\n",
      "running with author Rolf  Dobelli\n",
      "running with author Kevin P. Hand\n",
      "running with author Raphael  Bousso\n",
      "running with author Steven  Pinker\n"
     ]
    }
   ],
   "source": [
    "#Extract affiliations and genders\n",
    "author_metadata_external = []\n",
    "\n",
    "it = 0\n",
    "for a in author_metadata_df.name:\n",
    "    it +=1\n",
    "    \n",
    "    #Running...\n",
    "    if(it%20==0):\n",
    "        print('running with author {au}'.format(au=a))\n",
    "    \n",
    "    #Extract scholar results\n",
    "    scholar_results = gimme_scholar(a)\n",
    "    \n",
    "    #Extract gender\n",
    "    gender_results = gimme_gender(a)['gender']\n",
    "    \n",
    "    author_metadata_external.append([scholar_results,gender_results])"
   ]
  },
  {
   "cell_type": "code",
   "execution_count": 379,
   "metadata": {
    "collapsed": false
   },
   "outputs": [],
   "source": [
    "#Extract affiliations and interests of first match. How can we be sure that's the right one?\n",
    "\n",
    "#First extract a list of affiliations for each author\n",
    "academic_info=[]\n",
    "for x in author_metadata_external:\n",
    "    #print(num)\n",
    "    \n",
    "    try:\n",
    "        affs = x[0][0].affiliation\n",
    "    except:\n",
    "        affs = 'no_info'\n",
    "    \n",
    "    try:\n",
    "        ints = x[0][0].interests\n",
    "    except:\n",
    "        ints = ['no_info']\n",
    "        \n",
    "    academic_info.append([affs,ints])"
   ]
  },
  {
   "cell_type": "code",
   "execution_count": 380,
   "metadata": {
    "collapsed": false
   },
   "outputs": [
    {
     "data": {
      "text/plain": [
       "no_info                                 93\n",
       "artificial intelligence                  8\n",
       "neuroscience                             7\n",
       "psychology                               7\n",
       "cosmology                                4\n",
       "physics                                  4\n",
       "economics                                4\n",
       "evolution                                4\n",
       "machine learning                         3\n",
       "evolutionary psychology                  3\n",
       "philosophy                               3\n",
       "cognitive science                        3\n",
       "evolutionary biology                     3\n",
       "psychology of religion                   2\n",
       "language                                 2\n",
       "comparative politics                     2\n",
       "cooperation                              2\n",
       "decision making                          2\n",
       "social psychology                        2\n",
       "cognitive psychology                     2\n",
       "linguistics                              2\n",
       "complex systems                          2\n",
       "cognitive neuroscience                   2\n",
       "endothelial dysfunction                  1\n",
       "remote sensing                           1\n",
       "fuzzy set theory                         1\n",
       "sistemas operativos                      1\n",
       "health valuation                         1\n",
       "personality                              1\n",
       "heuristics                               1\n",
       "                                        ..\n",
       "corruption                               1\n",
       "positive psychology                      1\n",
       "mental disorders                         1\n",
       "behavioural science                      1\n",
       "positive emotion                         1\n",
       "virtue ethics                            1\n",
       "evolution of language speech & music     1\n",
       "morality                                 1\n",
       "asymptotic freedom                       1\n",
       "machine vision                           1\n",
       "web mining                               1\n",
       "amazonian peoples                        1\n",
       "theoretical biology                      1\n",
       "affective neuroscience                   1\n",
       "reasoning                                1\n",
       "international development                1\n",
       "visualization                            1\n",
       "digital literacy                         1\n",
       "honest signals                           1\n",
       "philosophy of science                    1\n",
       "programmable matter                      1\n",
       "happiness                                1\n",
       "social & affective neuroscience          1\n",
       "music                                    1\n",
       "emotions                                 1\n",
       "computational social science             1\n",
       "learned helplessness                     1\n",
       "learning and memory                      1\n",
       "land use change                          1\n",
       "applied ethics                           1\n",
       "dtype: int64"
      ]
     },
     "execution_count": 380,
     "metadata": {},
     "output_type": "execute_result"
    }
   ],
   "source": [
    "#Need to find a way of lumping these subjects into disciplines\n",
    "pd.Series([x.lower() for el in academic_info for x in el[1]]).value_counts()"
   ]
  },
  {
   "cell_type": "code",
   "execution_count": 386,
   "metadata": {
    "collapsed": false
   },
   "outputs": [],
   "source": [
    "#Need to perform the sentiment analysis (sentence level and average?) and the topic modelling (document level)"
   ]
  },
  {
   "cell_type": "code",
   "execution_count": null,
   "metadata": {
    "collapsed": true
   },
   "outputs": [],
   "source": []
  }
 ],
 "metadata": {
  "kernelspec": {
   "display_name": "Python 3",
   "language": "python",
   "name": "python3"
  },
  "language_info": {
   "codemirror_mode": {
    "name": "ipython",
    "version": 3
   },
   "file_extension": ".py",
   "mimetype": "text/x-python",
   "name": "python",
   "nbconvert_exporter": "python",
   "pygments_lexer": "ipython3",
   "version": "3.5.1"
  }
 },
 "nbformat": 4,
 "nbformat_minor": 1
}
